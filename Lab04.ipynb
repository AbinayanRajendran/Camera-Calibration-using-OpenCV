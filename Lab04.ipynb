{
 "cells": [
  {
   "cell_type": "code",
   "execution_count": 1,
   "metadata": {},
   "outputs": [],
   "source": [
    "import numpy as np\n",
    "import cv2 as cv\n",
    "import glob"
   ]
  },
  {
   "cell_type": "markdown",
   "metadata": {},
   "source": [
    "### Breakdown of  the code \n",
    "\n",
    "1. It sets up the termination criteria for the corner subpixel refinement process using **cv.TERM_CRITERIA_EPS** and **cv.TERM_CRITERIA_MAX_ITER**.\n",
    "2. It defines the object points (**objp**) for the chessboard pattern, which are the (**x, y**) coordinates of the chessboard corners in the real-world space.\n",
    "3. It initializes empty lists to store the object points (**objpoints**) and image points (**imgpoints**).\n",
    "4. It loops through all the images in the Images folder with the .jpg extension.\n",
    "5. For each image, it converts it to grayscale and tries to find the chessboard corners using **cv.findChessboardCorners**.\n",
    "6. If the chessboard corners are found, it appends the object points (**objp**) to objpoints and the refined corner points (**corners2**) to imgpoints.\n",
    "7. It also draws the detected chessboard corners on the image and displays it using **cv.drawChessboardCorners** and **cv.imshow**.\n",
    "8. After processing all the images, it calls **cv.calibrateCamera** to calculate the camera matrix (**mtx**), distortion coefficients (**dist**), rotation vectors (**rvecs**), and translation vectors (**tvecs**).\n",
    "9. It reads an image (23.jpg) and uses **cv.getOptimalNewCameraMatrix** to calculate the optimal new camera matrix (**newcameramtx**) and the region of interest (**roi**) for undistortion.\n",
    "10. It undistorts the image using **cv.undistort** with the calculated camera matrix, distortion coefficients, and the optimal new camera matrix.\n",
    "11. It crops the undistorted image using the calculated region of interest.\n",
    "12. Finally, it saves the undistorted and cropped image as calibresult.png using **cv.imwrite**."
   ]
  },
  {
   "cell_type": "markdown",
   "metadata": {},
   "source": [
    "### Termination criteria"
   ]
  },
  {
   "cell_type": "markdown",
   "metadata": {},
   "source": [
    "Here, criteria defines the termination criteria for iterative algorithms used in OpenCV functions. It combines **cv.TERM_CRITERIA_EPS** (termination criteria based on a certain accuracy threshold) and **cv.TERM_CRITERIA_MAX_ITER** (termination criteria based on a maximum number of iterations). The values 30 and 0.001 specify the maximum number of iterations allowed (30 iterations) and the desired accuracy (0.001), respectively"
   ]
  },
  {
   "cell_type": "code",
   "execution_count": 2,
   "metadata": {},
   "outputs": [],
   "source": [
    "criteria = (cv.TERM_CRITERIA_EPS + cv.TERM_CRITERIA_MAX_ITER, 30, 0.001)"
   ]
  },
  {
   "cell_type": "markdown",
   "metadata": {},
   "source": [
    "### Prepare object points, like (0,0,0), (1,0,0), (2,0,0) ....,(6,5,0)"
   ]
  },
  {
   "cell_type": "code",
   "execution_count": 3,
   "metadata": {},
   "outputs": [],
   "source": [
    "objp = np.zeros((6*9,3), np.float32)\n",
    "objp[:,:2] = np.mgrid[0:9,0:6].T.reshape(-1,2)"
   ]
  },
  {
   "cell_type": "markdown",
   "metadata": {},
   "source": [
    "### Arrays to store object points and image points from all the images."
   ]
  },
  {
   "cell_type": "code",
   "execution_count": 4,
   "metadata": {},
   "outputs": [],
   "source": [
    "objpoints = [] # 3d point in real world space\n",
    "imgpoints = [] # 2d points in image plane."
   ]
  },
  {
   "cell_type": "code",
   "execution_count": 42,
   "metadata": {},
   "outputs": [],
   "source": [
    "images = glob.glob('Images/*.jpeg')"
   ]
  },
  {
   "cell_type": "code",
   "execution_count": 43,
   "metadata": {},
   "outputs": [],
   "source": [
    "for fname in images:\n",
    " img = cv.imread(fname)\n",
    " gray = cv.cvtColor(img, cv.COLOR_BGR2GRAY)\n",
    " \n",
    " # Find the chess board corners\n",
    " ret, corners = cv.findChessboardCorners(gray, (6,9), None)\n",
    " \n",
    " # If found, add object points, image points (after refining them)\n",
    " if ret == True:\n",
    "   objpoints.append(objp)\n",
    " \n",
    "   corners2 = cv.cornerSubPix(gray,corners, (11,11), (-1,-1), criteria)\n",
    "   imgpoints.append(corners2)\n",
    " \n",
    " # Draw and display the corners\n",
    " cv.drawChessboardCorners(img, (6,9), corners2, ret)\n",
    " cv.imshow('img', img)\n",
    " cv.waitKey(10000)\n",
    " \n",
    "cv.destroyAllWindows()"
   ]
  },
  {
   "cell_type": "markdown",
   "metadata": {},
   "source": [
    "### Calibration\n",
    "Now that we have our object points and image points, we are ready to go for calibration. We can use the function, cv.calibrateCamera() which returns the camera matrix, distortion coefficients, rotation and translation vectors etc"
   ]
  },
  {
   "cell_type": "code",
   "execution_count": 44,
   "metadata": {},
   "outputs": [],
   "source": [
    "img = cv.imread(fname)\n",
    "gray = cv.cvtColor(img, cv.COLOR_BGR2GRAY)\n",
    "\n",
    "ret, mtx, dist, rvecs, tvecs = cv.calibrateCamera(objpoints, imgpoints, gray.shape[::-1], None, None)"
   ]
  },
  {
   "cell_type": "markdown",
   "metadata": {},
   "source": [
    "### Undistortion\n",
    "\n",
    "Now, we can take an image and undistort it. OpenCV comes with two methods for doing this. However first, we can refine the camera matrix based on a free scaling parameter using cv.getOptimalNewCameraMatrix(). If the scaling parameter alpha=0, it returns undistorted image with minimum unwanted pixels. So it may even remove some pixels at image corners. If alpha=1, all pixels are retained with some extra black images. This function also returns an image ROI which can be used to crop the result."
   ]
  },
  {
   "cell_type": "code",
   "execution_count": 45,
   "metadata": {},
   "outputs": [],
   "source": [
    "img = cv.imread('26.jpeg')\n",
    "h, w = img.shape[:2]\n",
    "newcameramtx, roi = cv.getOptimalNewCameraMatrix(mtx, dist, (w,h), 1, (w,h))"
   ]
  },
  {
   "cell_type": "code",
   "execution_count": 46,
   "metadata": {},
   "outputs": [
    {
     "data": {
      "text/plain": [
       "True"
      ]
     },
     "execution_count": 46,
     "metadata": {},
     "output_type": "execute_result"
    }
   ],
   "source": [
    "# undistort\n",
    "dst = cv.undistort(img, mtx, dist, None, newcameramtx)\n",
    " \n",
    "# crop the image\n",
    "x, y, w, h = roi\n",
    "dst = dst[y:y+h, x:x+w]\n",
    "cv.imwrite('calibresult.png', dst)"
   ]
  },
  {
   "cell_type": "code",
   "execution_count": 47,
   "metadata": {},
   "outputs": [
    {
     "data": {
      "text/plain": [
       "True"
      ]
     },
     "execution_count": 47,
     "metadata": {},
     "output_type": "execute_result"
    }
   ],
   "source": [
    "# undistort\n",
    "mapx, mapy = cv.initUndistortRectifyMap(mtx, dist, None, newcameramtx, (w,h), 5)\n",
    "dst2 = cv.remap(img, mapx, mapy, cv.INTER_LINEAR)\n",
    " \n",
    "# crop the image\n",
    "x, y, w, h = roi\n",
    "dst2 = dst[y:y+h, x:x+w]\n",
    "cv.imwrite('calibresult2.png', dst)"
   ]
  },
  {
   "cell_type": "code",
   "execution_count": 48,
   "metadata": {},
   "outputs": [
    {
     "name": "stdout",
     "output_type": "stream",
     "text": [
      "total error: 44.31421428356387\n"
     ]
    }
   ],
   "source": [
    "mean_error = 0\n",
    "for i in range(len(objpoints)):\n",
    " imgpoints2, _ = cv.projectPoints(objpoints[i], rvecs[i], tvecs[i], mtx, dist)\n",
    " error = cv.norm(imgpoints[i], imgpoints2, cv.NORM_L2)/len(imgpoints2)\n",
    " mean_error += error\n",
    " \n",
    "print( \"total error: {}\".format(mean_error/len(objpoints)) )"
   ]
  }
 ],
 "metadata": {
  "kernelspec": {
   "display_name": "sliit",
   "language": "python",
   "name": "python3"
  },
  "language_info": {
   "codemirror_mode": {
    "name": "ipython",
    "version": 3
   },
   "file_extension": ".py",
   "mimetype": "text/x-python",
   "name": "python",
   "nbconvert_exporter": "python",
   "pygments_lexer": "ipython3",
   "version": "3.10.13"
  }
 },
 "nbformat": 4,
 "nbformat_minor": 2
}
